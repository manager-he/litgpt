{
 "cells": [
  {
   "cell_type": "markdown",
   "metadata": {},
   "source": [
    "# json文件格式\n",
    "\n",
    "每个json文件代表一个库\n",
    "\n",
    "json格式转为字典数组，每行对应一个method\n",
    "\n",
    "包含如下属性：['project', 'version1', 'version2', 'file', 'class', 'method', 'has_compatible_issue', 'incompatible_type']"
   ]
  },
  {
   "cell_type": "markdown",
   "metadata": {},
   "source": []
  }
 ],
 "metadata": {
  "kernelspec": {
   "display_name": "d2l",
   "language": "python",
   "name": "python3"
  },
  "language_info": {
   "name": "python",
   "version": "3.9.21"
  }
 },
 "nbformat": 4,
 "nbformat_minor": 2
}
